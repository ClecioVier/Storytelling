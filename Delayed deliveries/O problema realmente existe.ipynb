{
 "cells": [
  {
   "cell_type": "markdown",
   "metadata": {},
   "source": [
    "# Storytelling Parte 2: Analisando o problema\n",
    "\n",
    "O objetivo desse trabalho é analisar se há a necessidade de aumento nos investimentos para o setor de entrega, para assim, melhorar a experiência do cliente\n",
    "\n",
    "- Base de dados https://www.kaggle.com/datasets/olistbr/brazilian-ecommerce?select=olist_customers_dataset.csv\n",
    "<br><br>\n",
    "\n",
    "- Algumas considerações são importantes\n",
    "    - O **time de logística não considera que o atraso na entrega é um problema relevante** e falou que, em média, as entregas estão sendo feitas 10 dias antes do prazo combinado\n",
    "    - Não é desejado a previsão de uma entrega atrasada, apenas a **exposição que esse é um problema que pode impactar os clientes**"
   ]
  },
  {
   "cell_type": "markdown",
   "metadata": {},
   "source": [
    "### Preparando o ambiente"
   ]
  },
  {
   "cell_type": "code",
   "execution_count": 1,
   "metadata": {},
   "outputs": [],
   "source": [
    "# Importando as bibliotecas\n",
    "import sqlite3\n",
    "import pandas as pd\n",
    "import datetime as dt\n",
    "import numpy as np\n",
    "import matplotlib.pyplot as plt"
   ]
  },
  {
   "cell_type": "code",
   "execution_count": 4,
   "metadata": {},
   "outputs": [],
   "source": [
    "# Criando uma conexão\n",
    "con = sqlite3.connect('Vendas_db.db')"
   ]
  },
  {
   "cell_type": "code",
   "execution_count": 5,
   "metadata": {},
   "outputs": [],
   "source": [
    "# E então criando o cursor\n",
    "\n",
    "cur = con.cursor()"
   ]
  },
  {
   "cell_type": "code",
   "execution_count": 6,
   "metadata": {},
   "outputs": [],
   "source": [
    "# Usando a função python\n",
    "def executa_consulta(consulta):\n",
    "    resultado = cur.execute(consulta).fetchall()\n",
    "    resultado = pd.DataFrame(resultado)\n",
    "    colunas = [i[0] for i in cur.description]\n",
    "    if resultado.shape[1] > 0:\n",
    "        resultado.columns = colunas\n",
    "    print(resultado.shape)\n",
    "    display(resultado.head())\n",
    "    return resultado"
   ]
  },
  {
   "cell_type": "code",
   "execution_count": 7,
   "metadata": {},
   "outputs": [
    {
     "name": "stdout",
     "output_type": "stream",
     "text": [
      "(9, 5)\n"
     ]
    },
    {
     "data": {
      "text/html": [
       "<div>\n",
       "<style scoped>\n",
       "    .dataframe tbody tr th:only-of-type {\n",
       "        vertical-align: middle;\n",
       "    }\n",
       "\n",
       "    .dataframe tbody tr th {\n",
       "        vertical-align: top;\n",
       "    }\n",
       "\n",
       "    .dataframe thead th {\n",
       "        text-align: right;\n",
       "    }\n",
       "</style>\n",
       "<table border=\"1\" class=\"dataframe\">\n",
       "  <thead>\n",
       "    <tr style=\"text-align: right;\">\n",
       "      <th></th>\n",
       "      <th>type</th>\n",
       "      <th>name</th>\n",
       "      <th>tbl_name</th>\n",
       "      <th>rootpage</th>\n",
       "      <th>sql</th>\n",
       "    </tr>\n",
       "  </thead>\n",
       "  <tbody>\n",
       "    <tr>\n",
       "      <th>0</th>\n",
       "      <td>table</td>\n",
       "      <td>sellers</td>\n",
       "      <td>sellers</td>\n",
       "      <td>2</td>\n",
       "      <td>CREATE TABLE \"sellers\" (\\n\"index\" INTEGER,\\n  ...</td>\n",
       "    </tr>\n",
       "    <tr>\n",
       "      <th>1</th>\n",
       "      <td>table</td>\n",
       "      <td>product_category_name_translation</td>\n",
       "      <td>product_category_name_translation</td>\n",
       "      <td>59</td>\n",
       "      <td>CREATE TABLE \"product_category_name_translatio...</td>\n",
       "    </tr>\n",
       "    <tr>\n",
       "      <th>2</th>\n",
       "      <td>table</td>\n",
       "      <td>order_items</td>\n",
       "      <td>order_items</td>\n",
       "      <td>5077</td>\n",
       "      <td>CREATE TABLE \"order_items\" (\\n\"index\" INTEGER,...</td>\n",
       "    </tr>\n",
       "    <tr>\n",
       "      <th>3</th>\n",
       "      <td>table</td>\n",
       "      <td>customers</td>\n",
       "      <td>customers</td>\n",
       "      <td>9612</td>\n",
       "      <td>CREATE TABLE \"customers\" (\\n\"index\" INTEGER,\\n...</td>\n",
       "    </tr>\n",
       "    <tr>\n",
       "      <th>4</th>\n",
       "      <td>table</td>\n",
       "      <td>geolocation</td>\n",
       "      <td>geolocation</td>\n",
       "      <td>12254</td>\n",
       "      <td>CREATE TABLE \"geolocation\" (\\n\"index\" INTEGER,...</td>\n",
       "    </tr>\n",
       "  </tbody>\n",
       "</table>\n",
       "</div>"
      ],
      "text/plain": [
       "    type                               name  \\\n",
       "0  table                            sellers   \n",
       "1  table  product_category_name_translation   \n",
       "2  table                        order_items   \n",
       "3  table                          customers   \n",
       "4  table                        geolocation   \n",
       "\n",
       "                            tbl_name  rootpage  \\\n",
       "0                            sellers         2   \n",
       "1  product_category_name_translation        59   \n",
       "2                        order_items      5077   \n",
       "3                          customers      9612   \n",
       "4                        geolocation     12254   \n",
       "\n",
       "                                                 sql  \n",
       "0  CREATE TABLE \"sellers\" (\\n\"index\" INTEGER,\\n  ...  \n",
       "1  CREATE TABLE \"product_category_name_translatio...  \n",
       "2  CREATE TABLE \"order_items\" (\\n\"index\" INTEGER,...  \n",
       "3  CREATE TABLE \"customers\" (\\n\"index\" INTEGER,\\n...  \n",
       "4  CREATE TABLE \"geolocation\" (\\n\"index\" INTEGER,...  "
      ]
     },
     "metadata": {},
     "output_type": "display_data"
    },
    {
     "data": {
      "text/html": [
       "<div>\n",
       "<style scoped>\n",
       "    .dataframe tbody tr th:only-of-type {\n",
       "        vertical-align: middle;\n",
       "    }\n",
       "\n",
       "    .dataframe tbody tr th {\n",
       "        vertical-align: top;\n",
       "    }\n",
       "\n",
       "    .dataframe thead th {\n",
       "        text-align: right;\n",
       "    }\n",
       "</style>\n",
       "<table border=\"1\" class=\"dataframe\">\n",
       "  <thead>\n",
       "    <tr style=\"text-align: right;\">\n",
       "      <th></th>\n",
       "      <th>type</th>\n",
       "      <th>name</th>\n",
       "      <th>tbl_name</th>\n",
       "      <th>rootpage</th>\n",
       "      <th>sql</th>\n",
       "    </tr>\n",
       "  </thead>\n",
       "  <tbody>\n",
       "    <tr>\n",
       "      <th>0</th>\n",
       "      <td>table</td>\n",
       "      <td>sellers</td>\n",
       "      <td>sellers</td>\n",
       "      <td>2</td>\n",
       "      <td>CREATE TABLE \"sellers\" (\\n\"index\" INTEGER,\\n  ...</td>\n",
       "    </tr>\n",
       "    <tr>\n",
       "      <th>1</th>\n",
       "      <td>table</td>\n",
       "      <td>product_category_name_translation</td>\n",
       "      <td>product_category_name_translation</td>\n",
       "      <td>59</td>\n",
       "      <td>CREATE TABLE \"product_category_name_translatio...</td>\n",
       "    </tr>\n",
       "    <tr>\n",
       "      <th>2</th>\n",
       "      <td>table</td>\n",
       "      <td>order_items</td>\n",
       "      <td>order_items</td>\n",
       "      <td>5077</td>\n",
       "      <td>CREATE TABLE \"order_items\" (\\n\"index\" INTEGER,...</td>\n",
       "    </tr>\n",
       "    <tr>\n",
       "      <th>3</th>\n",
       "      <td>table</td>\n",
       "      <td>customers</td>\n",
       "      <td>customers</td>\n",
       "      <td>9612</td>\n",
       "      <td>CREATE TABLE \"customers\" (\\n\"index\" INTEGER,\\n...</td>\n",
       "    </tr>\n",
       "    <tr>\n",
       "      <th>4</th>\n",
       "      <td>table</td>\n",
       "      <td>geolocation</td>\n",
       "      <td>geolocation</td>\n",
       "      <td>12254</td>\n",
       "      <td>CREATE TABLE \"geolocation\" (\\n\"index\" INTEGER,...</td>\n",
       "    </tr>\n",
       "    <tr>\n",
       "      <th>5</th>\n",
       "      <td>table</td>\n",
       "      <td>order_payments</td>\n",
       "      <td>order_payments</td>\n",
       "      <td>27180</td>\n",
       "      <td>CREATE TABLE \"order_payments\" (\\n\"index\" INTEG...</td>\n",
       "    </tr>\n",
       "    <tr>\n",
       "      <th>6</th>\n",
       "      <td>table</td>\n",
       "      <td>order_reviews</td>\n",
       "      <td>order_reviews</td>\n",
       "      <td>29199</td>\n",
       "      <td>CREATE TABLE \"order_reviews\" (\\n\"index\" INTEGE...</td>\n",
       "    </tr>\n",
       "    <tr>\n",
       "      <th>7</th>\n",
       "      <td>table</td>\n",
       "      <td>products</td>\n",
       "      <td>products</td>\n",
       "      <td>33274</td>\n",
       "      <td>CREATE TABLE \"products\" (\\n\"index\" INTEGER,\\n ...</td>\n",
       "    </tr>\n",
       "    <tr>\n",
       "      <th>8</th>\n",
       "      <td>table</td>\n",
       "      <td>orders</td>\n",
       "      <td>orders</td>\n",
       "      <td>61</td>\n",
       "      <td>CREATE TABLE \"orders\" (\\n\"index\" INTEGER,\\n  \"...</td>\n",
       "    </tr>\n",
       "  </tbody>\n",
       "</table>\n",
       "</div>"
      ],
      "text/plain": [
       "    type                               name  \\\n",
       "0  table                            sellers   \n",
       "1  table  product_category_name_translation   \n",
       "2  table                        order_items   \n",
       "3  table                          customers   \n",
       "4  table                        geolocation   \n",
       "5  table                     order_payments   \n",
       "6  table                      order_reviews   \n",
       "7  table                           products   \n",
       "8  table                             orders   \n",
       "\n",
       "                            tbl_name  rootpage  \\\n",
       "0                            sellers         2   \n",
       "1  product_category_name_translation        59   \n",
       "2                        order_items      5077   \n",
       "3                          customers      9612   \n",
       "4                        geolocation     12254   \n",
       "5                     order_payments     27180   \n",
       "6                      order_reviews     29199   \n",
       "7                           products     33274   \n",
       "8                             orders        61   \n",
       "\n",
       "                                                 sql  \n",
       "0  CREATE TABLE \"sellers\" (\\n\"index\" INTEGER,\\n  ...  \n",
       "1  CREATE TABLE \"product_category_name_translatio...  \n",
       "2  CREATE TABLE \"order_items\" (\\n\"index\" INTEGER,...  \n",
       "3  CREATE TABLE \"customers\" (\\n\"index\" INTEGER,\\n...  \n",
       "4  CREATE TABLE \"geolocation\" (\\n\"index\" INTEGER,...  \n",
       "5  CREATE TABLE \"order_payments\" (\\n\"index\" INTEG...  \n",
       "6  CREATE TABLE \"order_reviews\" (\\n\"index\" INTEGE...  \n",
       "7  CREATE TABLE \"products\" (\\n\"index\" INTEGER,\\n ...  \n",
       "8  CREATE TABLE \"orders\" (\\n\"index\" INTEGER,\\n  \"...  "
      ]
     },
     "execution_count": 7,
     "metadata": {},
     "output_type": "execute_result"
    }
   ],
   "source": [
    "executa_consulta('SELECT * FROM sqlite_schema WHERE type = \"table\"')"
   ]
  },
  {
   "cell_type": "markdown",
   "metadata": {},
   "source": [
    "### 1. O atraso é um problema real? </font>"
   ]
  },
  {
   "cell_type": "code",
   "execution_count": 8,
   "metadata": {},
   "outputs": [
    {
     "name": "stdout",
     "output_type": "stream",
     "text": [
      "(96476, 4)\n"
     ]
    },
    {
     "data": {
      "text/html": [
       "<div>\n",
       "<style scoped>\n",
       "    .dataframe tbody tr th:only-of-type {\n",
       "        vertical-align: middle;\n",
       "    }\n",
       "\n",
       "    .dataframe tbody tr th {\n",
       "        vertical-align: top;\n",
       "    }\n",
       "\n",
       "    .dataframe thead th {\n",
       "        text-align: right;\n",
       "    }\n",
       "</style>\n",
       "<table border=\"1\" class=\"dataframe\">\n",
       "  <thead>\n",
       "    <tr style=\"text-align: right;\">\n",
       "      <th></th>\n",
       "      <th>order_id</th>\n",
       "      <th>order_purchase_timestamp</th>\n",
       "      <th>order_delivered_customer_date</th>\n",
       "      <th>order_estimated_delivery_date</th>\n",
       "    </tr>\n",
       "  </thead>\n",
       "  <tbody>\n",
       "    <tr>\n",
       "      <th>0</th>\n",
       "      <td>e481f51cbdc54678b7cc49136f2d6af7</td>\n",
       "      <td>2017-10-02 10:56:33</td>\n",
       "      <td>2017-10-10 21:25:13</td>\n",
       "      <td>2017-10-18 00:00:00</td>\n",
       "    </tr>\n",
       "    <tr>\n",
       "      <th>1</th>\n",
       "      <td>53cdb2fc8bc7dce0b6741e2150273451</td>\n",
       "      <td>2018-07-24 20:41:37</td>\n",
       "      <td>2018-08-07 15:27:45</td>\n",
       "      <td>2018-08-13 00:00:00</td>\n",
       "    </tr>\n",
       "    <tr>\n",
       "      <th>2</th>\n",
       "      <td>47770eb9100c2d0c44946d9cf07ec65d</td>\n",
       "      <td>2018-08-08 08:38:49</td>\n",
       "      <td>2018-08-17 18:06:29</td>\n",
       "      <td>2018-09-04 00:00:00</td>\n",
       "    </tr>\n",
       "    <tr>\n",
       "      <th>3</th>\n",
       "      <td>949d5b44dbf5de918fe9c16f97b45f8a</td>\n",
       "      <td>2017-11-18 19:28:06</td>\n",
       "      <td>2017-12-02 00:28:42</td>\n",
       "      <td>2017-12-15 00:00:00</td>\n",
       "    </tr>\n",
       "    <tr>\n",
       "      <th>4</th>\n",
       "      <td>ad21c59c0840e6cb83a9ceb5573f8159</td>\n",
       "      <td>2018-02-13 21:18:39</td>\n",
       "      <td>2018-02-16 18:17:02</td>\n",
       "      <td>2018-02-26 00:00:00</td>\n",
       "    </tr>\n",
       "  </tbody>\n",
       "</table>\n",
       "</div>"
      ],
      "text/plain": [
       "                           order_id order_purchase_timestamp  \\\n",
       "0  e481f51cbdc54678b7cc49136f2d6af7      2017-10-02 10:56:33   \n",
       "1  53cdb2fc8bc7dce0b6741e2150273451      2018-07-24 20:41:37   \n",
       "2  47770eb9100c2d0c44946d9cf07ec65d      2018-08-08 08:38:49   \n",
       "3  949d5b44dbf5de918fe9c16f97b45f8a      2017-11-18 19:28:06   \n",
       "4  ad21c59c0840e6cb83a9ceb5573f8159      2018-02-13 21:18:39   \n",
       "\n",
       "  order_delivered_customer_date order_estimated_delivery_date  \n",
       "0           2017-10-10 21:25:13           2017-10-18 00:00:00  \n",
       "1           2018-08-07 15:27:45           2018-08-13 00:00:00  \n",
       "2           2018-08-17 18:06:29           2018-09-04 00:00:00  \n",
       "3           2017-12-02 00:28:42           2017-12-15 00:00:00  \n",
       "4           2018-02-16 18:17:02           2018-02-26 00:00:00  "
      ]
     },
     "metadata": {},
     "output_type": "display_data"
    }
   ],
   "source": [
    "# Podemos visualizar a tabela de pedidos \n",
    "#Selecionar dados nao nulos pois ultimos 2 meses há entregas à serem feitas (nao nulas)\n",
    "pedidos = executa_consulta('SELECT order_id, \\\n",
    "                            order_purchase_timestamp, \\\n",
    "                            order_delivered_customer_date, \\\n",
    "                            order_estimated_delivery_date \\\n",
    "                            FROM orders \\\n",
    "                            WHERE order_delivered_customer_date IS NOT NULL')"
   ]
  },
  {
   "cell_type": "code",
   "execution_count": 9,
   "metadata": {},
   "outputs": [
    {
     "name": "stdout",
     "output_type": "stream",
     "text": [
      "<class 'pandas.core.frame.DataFrame'>\n",
      "RangeIndex: 96476 entries, 0 to 96475\n",
      "Data columns (total 4 columns):\n",
      " #   Column                         Non-Null Count  Dtype \n",
      "---  ------                         --------------  ----- \n",
      " 0   order_id                       96476 non-null  object\n",
      " 1   order_purchase_timestamp       96476 non-null  object\n",
      " 2   order_delivered_customer_date  96476 non-null  object\n",
      " 3   order_estimated_delivery_date  96476 non-null  object\n",
      "dtypes: object(4)\n",
      "memory usage: 2.9+ MB\n"
     ]
    }
   ],
   "source": [
    "# Verificando as informações dessa base\n",
    "pedidos.info()"
   ]
  },
  {
   "cell_type": "code",
   "execution_count": 10,
   "metadata": {},
   "outputs": [],
   "source": [
    "# Ajustando o tipo das colunas de data\n",
    "lista_colunas = ['order_purchase_timestamp', 'order_delivered_customer_date', 'order_estimated_delivery_date']\n",
    "\n",
    "for i in lista_colunas:\n",
    "    pedidos[i] = pd.to_datetime(pedidos[i], format = '%Y-%m-%d %H:%M:%S')"
   ]
  },
  {
   "cell_type": "code",
   "execution_count": 11,
   "metadata": {},
   "outputs": [],
   "source": [
    "# Importando apenas pedidos igual ou acima de 2017 e \n",
    "pedidos = pedidos[pedidos.order_purchase_timestamp.dt.year >= 2017]"
   ]
  },
  {
   "cell_type": "code",
   "execution_count": 12,
   "metadata": {},
   "outputs": [
    {
     "name": "stdout",
     "output_type": "stream",
     "text": [
      "<class 'pandas.core.frame.DataFrame'>\n",
      "Int64Index: 96204 entries, 0 to 96475\n",
      "Data columns (total 4 columns):\n",
      " #   Column                         Non-Null Count  Dtype         \n",
      "---  ------                         --------------  -----         \n",
      " 0   order_id                       96204 non-null  object        \n",
      " 1   order_purchase_timestamp       96204 non-null  datetime64[ns]\n",
      " 2   order_delivered_customer_date  96204 non-null  datetime64[ns]\n",
      " 3   order_estimated_delivery_date  96204 non-null  datetime64[ns]\n",
      "dtypes: datetime64[ns](3), object(1)\n",
      "memory usage: 3.7+ MB\n"
     ]
    }
   ],
   "source": [
    "pedidos.info()"
   ]
  },
  {
   "cell_type": "code",
   "execution_count": 13,
   "metadata": {},
   "outputs": [],
   "source": [
    "# Calculando a diferença entre a data estimada e a data entregue\n",
    "pedidos['atraso'] = (pedidos.order_estimated_delivery_date.dt.date - pedidos.order_delivered_customer_date.dt.date).dt.days "
   ]
  },
  {
   "cell_type": "code",
   "execution_count": 14,
   "metadata": {},
   "outputs": [
    {
     "data": {
      "text/plain": [
       "11.80772109267806"
      ]
     },
     "execution_count": 14,
     "metadata": {},
     "output_type": "execute_result"
    }
   ],
   "source": [
    "pedidos.atraso.mean()"
   ]
  },
  {
   "cell_type": "markdown",
   "metadata": {},
   "source": [
    "**Verificar o mês que essa compra foi feita utilizando**"
   ]
  },
  {
   "cell_type": "code",
   "execution_count": 15,
   "metadata": {},
   "outputs": [
    {
     "data": {
      "text/plain": [
       "0        2017-10\n",
       "1        2018-07\n",
       "2        2018-08\n",
       "3        2017-11\n",
       "4        2018-02\n",
       "          ...   \n",
       "96471    2017-03\n",
       "96472    2018-02\n",
       "96473    2017-08\n",
       "96474    2018-01\n",
       "96475    2018-03\n",
       "Name: mes, Length: 96204, dtype: period[M]"
      ]
     },
     "execution_count": 15,
     "metadata": {},
     "output_type": "execute_result"
    }
   ],
   "source": [
    "# Verificando o período (mês/ano) da compra\n",
    "pedidos['mes'] = pedidos.order_purchase_timestamp.dt.to_period('M')\n",
    "pedidos.mes"
   ]
  },
  {
   "cell_type": "code",
   "execution_count": 16,
   "metadata": {},
   "outputs": [
    {
     "data": {
      "image/png": "[encoded data removed]",
      "text/plain": [
       "<Figure size 640x480 with 1 Axes>"
      ]
     },
     "metadata": {},
     "output_type": "display_data"
    }
   ],
   "source": [
    "# Verificando o atraso por mês\n",
    "pedidos.groupby('mes')['atraso'].mean().plot.bar();"
   ]
  },
  {
   "cell_type": "markdown",
   "metadata": {},
   "source": [
    "**Realmente a média das entregas é de 10 dias, mas podemos analisar se a média é o melhor indicador?**"
   ]
  },
  {
   "cell_type": "code",
   "execution_count": 17,
   "metadata": {},
   "outputs": [],
   "source": [
    "# Além da média, vamos analisar o máximo e o mínimo\n",
    "minimo = pedidos.groupby('mes')['atraso'].min()\n",
    "maximo = pedidos.groupby('mes')['atraso'].max()\n",
    "media = pedidos.groupby('mes')['atraso'].mean()"
   ]
  },
  {
   "cell_type": "code",
   "execution_count": 18,
   "metadata": {},
   "outputs": [
    {
     "data": {
      "image/png": "[encoded data removed]",
      "text/plain": [
       "<Figure size 640x480 with 1 Axes>"
      ]
     },
     "metadata": {},
     "output_type": "display_data"
    }
   ],
   "source": [
    "# Plotando graficamente\n",
    "fig, ax = plt.subplots()\n",
    "\n",
    "ax.plot(media.index.to_timestamp(), media.values)\n",
    "ax.bar(minimo.index.to_timestamp(), minimo.values, width = 20)\n",
    "ax.bar(maximo.index.to_timestamp(), maximo.values, width = 20)\n",
    "\n",
    "plt.xticks(rotation = 75)\n",
    "\n",
    "\n",
    "plt.show()"
   ]
  },
  {
   "cell_type": "markdown",
   "metadata": {},
   "source": [
    "**Analisando a quantidade de pedidos com atraso?**"
   ]
  },
  {
   "cell_type": "code",
   "execution_count": 19,
   "metadata": {},
   "outputs": [],
   "source": [
    "# Criando uma marcação para verificar se o pedido atrasou ou não\n",
    "pedidos['flag_atraso'] = pedidos.atraso.apply(lambda x: 1 if x < 0 else 0)"
   ]
  },
  {
   "cell_type": "code",
   "execution_count": 20,
   "metadata": {},
   "outputs": [
    {
     "data": {
      "text/html": [
       "<div>\n",
       "<style scoped>\n",
       "    .dataframe tbody tr th:only-of-type {\n",
       "        vertical-align: middle;\n",
       "    }\n",
       "\n",
       "    .dataframe tbody tr th {\n",
       "        vertical-align: top;\n",
       "    }\n",
       "\n",
       "    .dataframe thead th {\n",
       "        text-align: right;\n",
       "    }\n",
       "</style>\n",
       "<table border=\"1\" class=\"dataframe\">\n",
       "  <thead>\n",
       "    <tr style=\"text-align: right;\">\n",
       "      <th></th>\n",
       "      <th>order_id</th>\n",
       "      <th>order_purchase_timestamp</th>\n",
       "      <th>order_delivered_customer_date</th>\n",
       "      <th>order_estimated_delivery_date</th>\n",
       "      <th>atraso</th>\n",
       "      <th>mes</th>\n",
       "      <th>flag_atraso</th>\n",
       "    </tr>\n",
       "  </thead>\n",
       "  <tbody>\n",
       "    <tr>\n",
       "      <th>0</th>\n",
       "      <td>e481f51cbdc54678b7cc49136f2d6af7</td>\n",
       "      <td>2017-10-02 10:56:33</td>\n",
       "      <td>2017-10-10 21:25:13</td>\n",
       "      <td>2017-10-18</td>\n",
       "      <td>8</td>\n",
       "      <td>2017-10</td>\n",
       "      <td>0</td>\n",
       "    </tr>\n",
       "    <tr>\n",
       "      <th>1</th>\n",
       "      <td>53cdb2fc8bc7dce0b6741e2150273451</td>\n",
       "      <td>2018-07-24 20:41:37</td>\n",
       "      <td>2018-08-07 15:27:45</td>\n",
       "      <td>2018-08-13</td>\n",
       "      <td>6</td>\n",
       "      <td>2018-07</td>\n",
       "      <td>0</td>\n",
       "    </tr>\n",
       "    <tr>\n",
       "      <th>2</th>\n",
       "      <td>47770eb9100c2d0c44946d9cf07ec65d</td>\n",
       "      <td>2018-08-08 08:38:49</td>\n",
       "      <td>2018-08-17 18:06:29</td>\n",
       "      <td>2018-09-04</td>\n",
       "      <td>18</td>\n",
       "      <td>2018-08</td>\n",
       "      <td>0</td>\n",
       "    </tr>\n",
       "  </tbody>\n",
       "</table>\n",
       "</div>"
      ],
      "text/plain": [
       "                           order_id order_purchase_timestamp  \\\n",
       "0  e481f51cbdc54678b7cc49136f2d6af7      2017-10-02 10:56:33   \n",
       "1  53cdb2fc8bc7dce0b6741e2150273451      2018-07-24 20:41:37   \n",
       "2  47770eb9100c2d0c44946d9cf07ec65d      2018-08-08 08:38:49   \n",
       "\n",
       "  order_delivered_customer_date order_estimated_delivery_date  atraso  \\\n",
       "0           2017-10-10 21:25:13                    2017-10-18       8   \n",
       "1           2018-08-07 15:27:45                    2018-08-13       6   \n",
       "2           2018-08-17 18:06:29                    2018-09-04      18   \n",
       "\n",
       "       mes  flag_atraso  \n",
       "0  2017-10            0  \n",
       "1  2018-07            0  \n",
       "2  2018-08            0  "
      ]
     },
     "execution_count": 20,
     "metadata": {},
     "output_type": "execute_result"
    }
   ],
   "source": [
    "pedidos.head(3)"
   ]
  },
  {
   "cell_type": "code",
   "execution_count": 21,
   "metadata": {},
   "outputs": [
    {
     "data": {
      "image/png": "[encoded data removed]",
      "text/plain": [
       "<Figure size 640x480 with 1 Axes>"
      ]
     },
     "metadata": {},
     "output_type": "display_data"
    }
   ],
   "source": [
    "# E contando, mensalmente, quantos pedidos atrasaram\n",
    "pedidos.groupby('mes')['flag_atraso'].sum().plot.bar();"
   ]
  },
  {
   "cell_type": "code",
   "execution_count": 22,
   "metadata": {},
   "outputs": [],
   "source": [
    "# Analisando a relação entre o número de pedidos feitos e atrasados\n",
    "pedidos_atrasados = pedidos.groupby('mes')['flag_atraso'].sum()\n",
    "contagem_pedidos = pedidos.groupby('mes')['flag_atraso'].count()"
   ]
  },
  {
   "cell_type": "code",
   "execution_count": 23,
   "metadata": {},
   "outputs": [
    {
     "data": {
      "text/plain": [
       "mes\n",
       "2017-01     2.9\n",
       "2017-02     3.0\n",
       "2017-03     4.6\n",
       "2017-04     6.6\n",
       "2017-05     3.0\n",
       "2017-06     3.0\n",
       "2017-07     2.8\n",
       "2017-08     2.9\n",
       "2017-09     4.4\n",
       "2017-10     4.2\n",
       "2017-11    12.4\n",
       "2017-12     7.5\n",
       "2018-01     5.7\n",
       "2018-02    14.1\n",
       "2018-03    19.0\n",
       "2018-04     4.5\n",
       "2018-05     6.6\n",
       "2018-06     1.2\n",
       "2018-07     3.4\n",
       "2018-08     6.2\n",
       "Freq: M, Name: flag_atraso, dtype: float64"
      ]
     },
     "execution_count": 23,
     "metadata": {},
     "output_type": "execute_result"
    }
   ],
   "source": [
    "percentual_atraso = (pedidos_atrasados/contagem_pedidos)*100.\n",
    "percentual_atraso = percentual_atraso.round(decimals = 1)\n",
    "percentual_atraso"
   ]
  },
  {
   "cell_type": "code",
   "execution_count": 57,
   "metadata": {},
   "outputs": [
    {
     "data": {
      "image/png": "[encoded data removed]",
      "text/plain": [
       "<Figure size 1200x800 with 2 Axes>"
      ]
     },
     "metadata": {},
     "output_type": "display_data"
    }
   ],
   "source": [
    "# Melhorando a visualização\n",
    "fig, ax = plt.subplots(nrows=2,figsize=(12,8),gridspec_kw={'height_ratios': [1,4]})\n",
    "\n",
    "x = np.arange(0,len(contagem_pedidos))\n",
    "\n",
    "ax[1].bar(x, contagem_pedidos.values, linewidth=2.0,color='tab:blue')\n",
    "ax[1].bar(x, pedidos_atrasados.values, linewidth=2.0,color='tab:red')\n",
    "ax[0].plot(x,percentual_atraso.values,c='r')\n",
    "\n",
    "ax[0].xaxis.set_visible(False)\n",
    "ax[0].yaxis.set_visible(False)\n",
    "for i in x:\n",
    "    ax[0].annotate(percentual_atraso.values[i],(i,percentual_atraso.values[i]),\n",
    "                   ha=\"center\",xytext=(0,10), textcoords=\"offset points\",c='r')\n",
    "    plt.rcParams.update({'font.size': 12})\n",
    "ax[0].spines['top'].set_visible(False)\n",
    "ax[0].spines['left'].set_visible(False)\n",
    "ax[0].spines['right'].set_visible(False)\n",
    "ax[0].spines['bottom'].set_visible(False)\n",
    "ax[0].annotate('percentual de atrasos',(x[-1],percentual_atraso.values[-1]),ha=\"left\",xytext=(10,0),textcoords=\"offset points\",c='r')\n",
    "    \n",
    "ax[1].set_xticks(x)\n",
    "ax[1].set_xticklabels(contagem_pedidos.index,rotation=75)\n",
    "ax[1].spines['top'].set_visible(False)\n",
    "ax[1].spines['right'].set_visible(False)\n",
    "ax[1].annotate('pedidos totais',(x[-1],contagem_pedidos.values[-1]),ha=\"left\",xytext=(15,-15),\n",
    "               textcoords=\"offset points\",c='tab:gray',fontsize=12,fontweight='bold')\n",
    "ax[1].annotate('pedidos atrasados',(x[-1],pedidos_atrasados.values[-1]),ha=\"left\",xytext=(15,-5),\n",
    "               textcoords=\"offset points\",c='tab:red',fontsize=12,fontweight='bold')\n",
    "\n",
    "plt.savefig('pedidos_atrasados',bbox_inches = 'tight', transparent=True)"
   ]
  },
  {
   "cell_type": "code",
   "execution_count": 45,
   "metadata": {},
   "outputs": [
    {
     "data": {
      "text/plain": [
       "6.7897384724127905"
      ]
     },
     "execution_count": 45,
     "metadata": {},
     "output_type": "execute_result"
    }
   ],
   "source": [
    "(pedidos_atrasados.sum() / contagem_pedidos.sum())*100"
   ]
  }
 ],
 "metadata": {
  "kernelspec": {
   "display_name": "Python 3 (ipykernel)",
   "language": "python",
   "name": "python3"
  },
  "language_info": {
   "codemirror_mode": {
    "name": "ipython",
    "version": 3
   },
   "file_extension": ".py",
   "mimetype": "text/x-python",
   "name": "python",
   "nbconvert_exporter": "python",
   "pygments_lexer": "ipython3",
   "version": "3.9.13"
  }
 },
 "nbformat": 4,
 "nbformat_minor": 4
}
